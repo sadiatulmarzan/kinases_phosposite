{
 "cells": [
  {
   "cell_type": "markdown",
   "metadata": {},
   "source": [
    "# Import libraries "
   ]
  },
  {
   "cell_type": "code",
   "execution_count": 1,
   "metadata": {},
   "outputs": [],
   "source": [
    "# import necessary libraries \n",
    "import numpy as np\n",
    "import pandas as pd\n",
    "import matplotlib.pyplot as plt"
   ]
  },
  {
   "cell_type": "markdown",
   "metadata": {},
   "source": [
    "# Merge the data"
   ]
  },
  {
   "cell_type": "code",
   "execution_count": null,
   "metadata": {},
   "outputs": [],
   "source": [
    "def get_kinase_ranked(rank):\n",
    "    return pd.read_csv(f'../data/kinase_ranked_{rank}.csv')"
   ]
  },
  {
   "cell_type": "code",
   "execution_count": null,
   "metadata": {},
   "outputs": [],
   "source": [
    "# load the kinsase substrate humand data \n",
    "df_human = pd.read_csv('../data/Kinase_Substrate_Dataset_human.txt', delimiter='\\t')\n",
    "df_human.head()"
   ]
  },
  {
   "cell_type": "code",
   "execution_count": null,
   "metadata": {},
   "outputs": [],
   "source": [
    "id_columns = [x for x in df_human.columns if 'ID' in x]\n",
    "id_columns"
   ]
  },
  {
   "cell_type": "code",
   "execution_count": null,
   "metadata": {},
   "outputs": [],
   "source": [
    "column_needed = ['KINASE', 'SUBSTRATE' , 'KIN_ORGANISM', 'SUB_ORGANISM', 'SITE_+/-7_AA','SUB_MOD_RSD']"
   ]
  },
  {
   "cell_type": "code",
   "execution_count": null,
   "metadata": {},
   "outputs": [],
   "source": [
    "df_human = df_human[column_needed+id_columns]"
   ]
  },
  {
   "cell_type": "code",
   "execution_count": null,
   "metadata": {},
   "outputs": [],
   "source": [
    "df_1 = get_kinase_ranked(1)\n",
    "df_2 = get_kinase_ranked(2)\n",
    "df_3 = get_kinase_ranked(3)"
   ]
  },
  {
   "cell_type": "code",
   "execution_count": null,
   "metadata": {},
   "outputs": [],
   "source": [
    "data_frame_dict = {'kinase_ranked_1': df_1, 'kinase_ranked_2': df_2, 'kinase_ranked_3': df_3}"
   ]
  },
  {
   "cell_type": "code",
   "execution_count": null,
   "metadata": {},
   "outputs": [],
   "source": [
    "current_rank = 1"
   ]
  },
  {
   "cell_type": "code",
   "execution_count": null,
   "metadata": {},
   "outputs": [],
   "source": [
    "data_frame_dict[f'kinase_ranked_{current_rank}'].head()"
   ]
  },
  {
   "cell_type": "code",
   "execution_count": null,
   "metadata": {},
   "outputs": [],
   "source": [
    "df_human"
   ]
  },
  {
   "cell_type": "markdown",
   "metadata": {},
   "source": [
    "Test outermerge \n"
   ]
  },
  {
   "cell_type": "code",
   "execution_count": null,
   "metadata": {},
   "outputs": [],
   "source": [
    "left = ['KINASE', 'SUB_ACC_ID']\n",
    "right = ['ranked_1', 'Uniprot Primary Accession']\n"
   ]
  },
  {
   "cell_type": "code",
   "execution_count": null,
   "metadata": {},
   "outputs": [],
   "source": [
    "df_human.merge(data_frame_dict[f'kinase_ranked_{current_rank}'], left_on=left, right_on=right, how='outer')"
   ]
  },
  {
   "cell_type": "code",
   "execution_count": null,
   "metadata": {},
   "outputs": [],
   "source": []
  },
  {
   "cell_type": "markdown",
   "metadata": {},
   "source": [
    "Export to csv"
   ]
  },
  {
   "cell_type": "code",
   "execution_count": null,
   "metadata": {},
   "outputs": [],
   "source": [
    "df_human.head()"
   ]
  },
  {
   "cell_type": "markdown",
   "metadata": {},
   "source": [
    "### Change column name to have suffix"
   ]
  },
  {
   "cell_type": "code",
   "execution_count": null,
   "metadata": {},
   "outputs": [],
   "source": [
    "def column_name_change(old_column, suffix): \n",
    "    return [x + suffix for x in old_column]"
   ]
  },
  {
   "cell_type": "code",
   "execution_count": null,
   "metadata": {},
   "outputs": [],
   "source": [
    "# change the column names for the data frame\n",
    "for key, value in data_frame_dict.items():\n",
    "    new_column_name = column_name_change(value.columns, f'_johnson')\n",
    "    data_frame_dict[key].columns = new_column_name"
   ]
  },
  {
   "cell_type": "code",
   "execution_count": null,
   "metadata": {},
   "outputs": [],
   "source": [
    "# change for the psp \n",
    "df_human.columns = column_name_change(df_human.columns, f'_psp')"
   ]
  },
  {
   "cell_type": "markdown",
   "metadata": {},
   "source": [
    "# Creating the files "
   ]
  },
  {
   "cell_type": "code",
   "execution_count": null,
   "metadata": {},
   "outputs": [],
   "source": [
    "for rank in [1,2,3]: \n",
    "    left = ['KINASE_psp', 'SUB_ACC_ID_psp']\n",
    "    right =  [f'ranked_{rank}_johnson', 'Uniprot Primary Accession_johnson']\n",
    "    merged_df = df_human.merge(data_frame_dict[f'kinase_ranked_{rank}'], left_on=left, right_on=right, how='outer')\n",
    "    merged_df.to_csv(f'../data/merged_kinase_ranked_{rank}.csv')"
   ]
  },
  {
   "cell_type": "code",
   "execution_count": 2,
   "metadata": {},
   "outputs": [
    {
     "name": "stderr",
     "output_type": "stream",
     "text": [
      "C:\\Users\\sadia\\AppData\\Local\\Temp\\ipykernel_11244\\1788442484.py:1: DtypeWarning: Columns (1,2,3,4,5,6,7,9) have mixed types. Specify dtype option on import or set low_memory=False.\n",
      "  pd.read_csv('../data/merged_kinase_ranked_1.csv')\n"
     ]
    },
    {
     "data": {
      "text/html": [
       "<div>\n",
       "<style scoped>\n",
       "    .dataframe tbody tr th:only-of-type {\n",
       "        vertical-align: middle;\n",
       "    }\n",
       "\n",
       "    .dataframe tbody tr th {\n",
       "        vertical-align: top;\n",
       "    }\n",
       "\n",
       "    .dataframe thead th {\n",
       "        text-align: right;\n",
       "    }\n",
       "</style>\n",
       "<table border=\"1\" class=\"dataframe\">\n",
       "  <thead>\n",
       "    <tr style=\"text-align: right;\">\n",
       "      <th></th>\n",
       "      <th>Unnamed: 0</th>\n",
       "      <th>KINASE_psp</th>\n",
       "      <th>SUBSTRATE_psp</th>\n",
       "      <th>KIN_ORGANISM_psp</th>\n",
       "      <th>SUB_ORGANISM_psp</th>\n",
       "      <th>SITE_+/-7_AA_psp</th>\n",
       "      <th>SUB_MOD_RSD_psp</th>\n",
       "      <th>KIN_ACC_ID_psp</th>\n",
       "      <th>SUB_GENE_ID_psp</th>\n",
       "      <th>SUB_ACC_ID_psp</th>\n",
       "      <th>SITE_GRP_ID_psp</th>\n",
       "      <th>Uniprot Primary Accession_johnson</th>\n",
       "      <th>Protein_johnson</th>\n",
       "      <th>Phosphosite_johnson</th>\n",
       "      <th>SITE_+/-7_AA_johnson</th>\n",
       "      <th>ranked_1_johnson</th>\n",
       "    </tr>\n",
       "  </thead>\n",
       "  <tbody>\n",
       "    <tr>\n",
       "      <th>0</th>\n",
       "      <td>0</td>\n",
       "      <td>HRI</td>\n",
       "      <td>eIF2-alpha</td>\n",
       "      <td>human</td>\n",
       "      <td>human</td>\n",
       "      <td>MILLsELsRRRIRsI</td>\n",
       "      <td>S52</td>\n",
       "      <td>Q9BQI3</td>\n",
       "      <td>1965.0</td>\n",
       "      <td>P05198</td>\n",
       "      <td>4.476350e+05</td>\n",
       "      <td>P05198</td>\n",
       "      <td>IF2A</td>\n",
       "      <td>S52</td>\n",
       "      <td>MILLSELSRRRIRSI</td>\n",
       "      <td>HRI</td>\n",
       "    </tr>\n",
       "    <tr>\n",
       "      <th>1</th>\n",
       "      <td>1</td>\n",
       "      <td>HRI</td>\n",
       "      <td>eIF2-alpha</td>\n",
       "      <td>human</td>\n",
       "      <td>human</td>\n",
       "      <td>IEGMILLsELsRRRI</td>\n",
       "      <td>S49</td>\n",
       "      <td>Q9BQI3</td>\n",
       "      <td>1965.0</td>\n",
       "      <td>P05198</td>\n",
       "      <td>4.502100e+05</td>\n",
       "      <td>P05198</td>\n",
       "      <td>IF2A</td>\n",
       "      <td>S52</td>\n",
       "      <td>MILLSELSRRRIRSI</td>\n",
       "      <td>HRI</td>\n",
       "    </tr>\n",
       "    <tr>\n",
       "      <th>2</th>\n",
       "      <td>2</td>\n",
       "      <td>PKCD</td>\n",
       "      <td>HDAC5</td>\n",
       "      <td>human</td>\n",
       "      <td>human</td>\n",
       "      <td>FPLRkTAsEPNLKVR</td>\n",
       "      <td>S259</td>\n",
       "      <td>Q05655</td>\n",
       "      <td>10014.0</td>\n",
       "      <td>Q9UQL6</td>\n",
       "      <td>4.479950e+05</td>\n",
       "      <td>NaN</td>\n",
       "      <td>NaN</td>\n",
       "      <td>NaN</td>\n",
       "      <td>NaN</td>\n",
       "      <td>NaN</td>\n",
       "    </tr>\n",
       "    <tr>\n",
       "      <th>3</th>\n",
       "      <td>3</td>\n",
       "      <td>PKCD</td>\n",
       "      <td>PTPRA iso2</td>\n",
       "      <td>human</td>\n",
       "      <td>human</td>\n",
       "      <td>PLLARSPsTNRKYPP</td>\n",
       "      <td>S204</td>\n",
       "      <td>Q05655</td>\n",
       "      <td>5786.0</td>\n",
       "      <td>P18433-2</td>\n",
       "      <td>4.476120e+05</td>\n",
       "      <td>NaN</td>\n",
       "      <td>NaN</td>\n",
       "      <td>NaN</td>\n",
       "      <td>NaN</td>\n",
       "      <td>NaN</td>\n",
       "    </tr>\n",
       "    <tr>\n",
       "      <th>4</th>\n",
       "      <td>4</td>\n",
       "      <td>PKCD</td>\n",
       "      <td>PTPRA iso2</td>\n",
       "      <td>human</td>\n",
       "      <td>human</td>\n",
       "      <td>QAGSHSNsFRLSNGR</td>\n",
       "      <td>S180</td>\n",
       "      <td>Q05655</td>\n",
       "      <td>5786.0</td>\n",
       "      <td>P18433-2</td>\n",
       "      <td>1.869334e+09</td>\n",
       "      <td>NaN</td>\n",
       "      <td>NaN</td>\n",
       "      <td>NaN</td>\n",
       "      <td>NaN</td>\n",
       "      <td>NaN</td>\n",
       "    </tr>\n",
       "    <tr>\n",
       "      <th>...</th>\n",
       "      <td>...</td>\n",
       "      <td>...</td>\n",
       "      <td>...</td>\n",
       "      <td>...</td>\n",
       "      <td>...</td>\n",
       "      <td>...</td>\n",
       "      <td>...</td>\n",
       "      <td>...</td>\n",
       "      <td>...</td>\n",
       "      <td>...</td>\n",
       "      <td>...</td>\n",
       "      <td>...</td>\n",
       "      <td>...</td>\n",
       "      <td>...</td>\n",
       "      <td>...</td>\n",
       "      <td>...</td>\n",
       "    </tr>\n",
       "    <tr>\n",
       "      <th>106114</th>\n",
       "      <td>106114</td>\n",
       "      <td>NaN</td>\n",
       "      <td>NaN</td>\n",
       "      <td>NaN</td>\n",
       "      <td>NaN</td>\n",
       "      <td>NaN</td>\n",
       "      <td>NaN</td>\n",
       "      <td>NaN</td>\n",
       "      <td>NaN</td>\n",
       "      <td>NaN</td>\n",
       "      <td>NaN</td>\n",
       "      <td>Q9Y2L6</td>\n",
       "      <td>FRM4B</td>\n",
       "      <td>T529</td>\n",
       "      <td>NEPDLCKTVKKKRKQ</td>\n",
       "      <td>ZAK</td>\n",
       "    </tr>\n",
       "    <tr>\n",
       "      <th>106115</th>\n",
       "      <td>106115</td>\n",
       "      <td>NaN</td>\n",
       "      <td>NaN</td>\n",
       "      <td>NaN</td>\n",
       "      <td>NaN</td>\n",
       "      <td>NaN</td>\n",
       "      <td>NaN</td>\n",
       "      <td>NaN</td>\n",
       "      <td>NaN</td>\n",
       "      <td>NaN</td>\n",
       "      <td>NaN</td>\n",
       "      <td>Q9Y3C1</td>\n",
       "      <td>NOP16</td>\n",
       "      <td>S16</td>\n",
       "      <td>RRQKFGYSVNRKRLN</td>\n",
       "      <td>ZAK</td>\n",
       "    </tr>\n",
       "    <tr>\n",
       "      <th>106116</th>\n",
       "      <td>106116</td>\n",
       "      <td>NaN</td>\n",
       "      <td>NaN</td>\n",
       "      <td>NaN</td>\n",
       "      <td>NaN</td>\n",
       "      <td>NaN</td>\n",
       "      <td>NaN</td>\n",
       "      <td>NaN</td>\n",
       "      <td>NaN</td>\n",
       "      <td>NaN</td>\n",
       "      <td>NaN</td>\n",
       "      <td>Q9Y4H2</td>\n",
       "      <td>IRS2</td>\n",
       "      <td>S30</td>\n",
       "      <td>NNNNNNHSVRKCGYL</td>\n",
       "      <td>ZAK</td>\n",
       "    </tr>\n",
       "    <tr>\n",
       "      <th>106117</th>\n",
       "      <td>106117</td>\n",
       "      <td>NaN</td>\n",
       "      <td>NaN</td>\n",
       "      <td>NaN</td>\n",
       "      <td>NaN</td>\n",
       "      <td>NaN</td>\n",
       "      <td>NaN</td>\n",
       "      <td>NaN</td>\n",
       "      <td>NaN</td>\n",
       "      <td>NaN</td>\n",
       "      <td>NaN</td>\n",
       "      <td>Q9Y5Y5</td>\n",
       "      <td>PEX16</td>\n",
       "      <td>S183</td>\n",
       "      <td>RTLQNTPSLHSRHWG</td>\n",
       "      <td>ZAK</td>\n",
       "    </tr>\n",
       "    <tr>\n",
       "      <th>106118</th>\n",
       "      <td>106118</td>\n",
       "      <td>NaN</td>\n",
       "      <td>NaN</td>\n",
       "      <td>NaN</td>\n",
       "      <td>NaN</td>\n",
       "      <td>NaN</td>\n",
       "      <td>NaN</td>\n",
       "      <td>NaN</td>\n",
       "      <td>NaN</td>\n",
       "      <td>NaN</td>\n",
       "      <td>NaN</td>\n",
       "      <td>R4GMW8</td>\n",
       "      <td>R4GMW8</td>\n",
       "      <td>S986</td>\n",
       "      <td>ASPTCTNSVSKNETH</td>\n",
       "      <td>ZAK</td>\n",
       "    </tr>\n",
       "  </tbody>\n",
       "</table>\n",
       "<p>106119 rows × 16 columns</p>\n",
       "</div>"
      ],
      "text/plain": [
       "        Unnamed: 0 KINASE_psp SUBSTRATE_psp KIN_ORGANISM_psp SUB_ORGANISM_psp  \\\n",
       "0                0        HRI    eIF2-alpha            human            human   \n",
       "1                1        HRI    eIF2-alpha            human            human   \n",
       "2                2       PKCD         HDAC5            human            human   \n",
       "3                3       PKCD    PTPRA iso2            human            human   \n",
       "4                4       PKCD    PTPRA iso2            human            human   \n",
       "...            ...        ...           ...              ...              ...   \n",
       "106114      106114        NaN           NaN              NaN              NaN   \n",
       "106115      106115        NaN           NaN              NaN              NaN   \n",
       "106116      106116        NaN           NaN              NaN              NaN   \n",
       "106117      106117        NaN           NaN              NaN              NaN   \n",
       "106118      106118        NaN           NaN              NaN              NaN   \n",
       "\n",
       "       SITE_+/-7_AA_psp SUB_MOD_RSD_psp KIN_ACC_ID_psp  SUB_GENE_ID_psp  \\\n",
       "0       MILLsELsRRRIRsI             S52         Q9BQI3           1965.0   \n",
       "1       IEGMILLsELsRRRI             S49         Q9BQI3           1965.0   \n",
       "2       FPLRkTAsEPNLKVR            S259         Q05655          10014.0   \n",
       "3       PLLARSPsTNRKYPP            S204         Q05655           5786.0   \n",
       "4       QAGSHSNsFRLSNGR            S180         Q05655           5786.0   \n",
       "...                 ...             ...            ...              ...   \n",
       "106114              NaN             NaN            NaN              NaN   \n",
       "106115              NaN             NaN            NaN              NaN   \n",
       "106116              NaN             NaN            NaN              NaN   \n",
       "106117              NaN             NaN            NaN              NaN   \n",
       "106118              NaN             NaN            NaN              NaN   \n",
       "\n",
       "       SUB_ACC_ID_psp  SITE_GRP_ID_psp Uniprot Primary Accession_johnson  \\\n",
       "0              P05198     4.476350e+05                            P05198   \n",
       "1              P05198     4.502100e+05                            P05198   \n",
       "2              Q9UQL6     4.479950e+05                               NaN   \n",
       "3            P18433-2     4.476120e+05                               NaN   \n",
       "4            P18433-2     1.869334e+09                               NaN   \n",
       "...               ...              ...                               ...   \n",
       "106114            NaN              NaN                            Q9Y2L6   \n",
       "106115            NaN              NaN                            Q9Y3C1   \n",
       "106116            NaN              NaN                            Q9Y4H2   \n",
       "106117            NaN              NaN                            Q9Y5Y5   \n",
       "106118            NaN              NaN                            R4GMW8   \n",
       "\n",
       "       Protein_johnson Phosphosite_johnson SITE_+/-7_AA_johnson  \\\n",
       "0                 IF2A                 S52      MILLSELSRRRIRSI   \n",
       "1                 IF2A                 S52      MILLSELSRRRIRSI   \n",
       "2                  NaN                 NaN                  NaN   \n",
       "3                  NaN                 NaN                  NaN   \n",
       "4                  NaN                 NaN                  NaN   \n",
       "...                ...                 ...                  ...   \n",
       "106114           FRM4B                T529      NEPDLCKTVKKKRKQ   \n",
       "106115           NOP16                 S16      RRQKFGYSVNRKRLN   \n",
       "106116            IRS2                 S30      NNNNNNHSVRKCGYL   \n",
       "106117           PEX16                S183      RTLQNTPSLHSRHWG   \n",
       "106118          R4GMW8                S986      ASPTCTNSVSKNETH   \n",
       "\n",
       "       ranked_1_johnson  \n",
       "0                   HRI  \n",
       "1                   HRI  \n",
       "2                   NaN  \n",
       "3                   NaN  \n",
       "4                   NaN  \n",
       "...                 ...  \n",
       "106114              ZAK  \n",
       "106115              ZAK  \n",
       "106116              ZAK  \n",
       "106117              ZAK  \n",
       "106118              ZAK  \n",
       "\n",
       "[106119 rows x 16 columns]"
      ]
     },
     "execution_count": 2,
     "metadata": {},
     "output_type": "execute_result"
    }
   ],
   "source": [
    "pd.read_csv('../data/merged_kinase_ranked_1.csv')"
   ]
  },
  {
   "cell_type": "code",
   "execution_count": null,
   "metadata": {},
   "outputs": [],
   "source": []
  }
 ],
 "metadata": {
  "kernelspec": {
   "display_name": "base",
   "language": "python",
   "name": "python3"
  },
  "language_info": {
   "codemirror_mode": {
    "name": "ipython",
    "version": 3
   },
   "file_extension": ".py",
   "mimetype": "text/x-python",
   "name": "python",
   "nbconvert_exporter": "python",
   "pygments_lexer": "ipython3",
   "version": "3.10.9"
  }
 },
 "nbformat": 4,
 "nbformat_minor": 2
}
