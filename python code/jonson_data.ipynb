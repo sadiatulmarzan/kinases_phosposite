{
 "cells": [
  {
   "cell_type": "markdown",
   "metadata": {},
   "source": [
    "# Import libraries "
   ]
  },
  {
   "cell_type": "code",
   "execution_count": null,
   "metadata": {},
   "outputs": [],
   "source": [
    "# import necessary libraries \n",
    "import numpy as np\n",
    "import pandas as pd\n",
    "import matplotlib.pyplot as plt"
   ]
  },
  {
   "cell_type": "markdown",
   "metadata": {},
   "source": [
    "# Load data"
   ]
  },
  {
   "cell_type": "code",
   "execution_count": null,
   "metadata": {},
   "outputs": [],
   "source": [
    "df = pd.read_csv('../data/41586_2022_5575_MOESM5_ESM.csv', delimiter=';')\n"
   ]
  },
  {
   "cell_type": "code",
   "execution_count": null,
   "metadata": {},
   "outputs": [],
   "source": [
    "df"
   ]
  },
  {
   "cell_type": "markdown",
   "metadata": {},
   "source": [
    "# Data pre processing"
   ]
  },
  {
   "cell_type": "code",
   "execution_count": null,
   "metadata": {},
   "outputs": [],
   "source": [
    "# columns needed \n",
    "columns_needed = ['Uniprot Primary Accession', 'Protein','Phosphosite','SITE_+/-7_AA' ]"
   ]
  },
  {
   "cell_type": "markdown",
   "metadata": {},
   "source": [
    "Select the rank columns "
   ]
  },
  {
   "cell_type": "code",
   "execution_count": null,
   "metadata": {},
   "outputs": [],
   "source": [
    "rank_columns = [x for x in df.columns if 'rank' in x]\n",
    "rank_columns"
   ]
  },
  {
   "cell_type": "markdown",
   "metadata": {},
   "source": [
    "Cleaned up data "
   ]
  },
  {
   "cell_type": "code",
   "execution_count": null,
   "metadata": {},
   "outputs": [],
   "source": [
    "data = df[columns_needed + rank_columns]\n",
    "data.head()"
   ]
  },
  {
   "cell_type": "code",
   "execution_count": null,
   "metadata": {},
   "outputs": [],
   "source": [
    "data"
   ]
  },
  {
   "cell_type": "markdown",
   "metadata": {},
   "source": [
    "# Creating Ranked Kinase DataFrame "
   ]
  },
  {
   "cell_type": "code",
   "execution_count": null,
   "metadata": {},
   "outputs": [],
   "source": [
    "def create_kinase_ranked(number: int, data: pd.DataFrame = data, \n",
    "                         columns_needed: list = columns_needed, \n",
    "                         rank_columns: list = rank_columns) -> pd.DataFrame:\n",
    "    \"\"\"\n",
    "    Creates a DataFrame of kinases ranked based on a rank number.\n",
    "\n",
    "    Parameters:\n",
    "    number (int): The rank number to filter the data.\n",
    "    data (DataFrame): The original DataFrame containing kinase data.\n",
    "    columns_needed (list): List of column names to be included in the final DataFrame.\n",
    "    rank_columns (list): List of column names in the original DataFrame that contain ranking information.\n",
    "\n",
    "    Returns:\n",
    "    DataFrame: A new DataFrame containing kinases of the specified rank, with columns as specified in columns_needed.\n",
    "    \"\"\"\n",
    "    kinase_ranked = pd.DataFrame()\n",
    "    for rank in rank_columns: \n",
    "        new_df = data[data[rank] == number]\n",
    "        new_df[f'ranked_{number}'] = rank\n",
    "        kinase_ranked = pd.concat([kinase_ranked, new_df[columns_needed+[f'ranked_{number}']].reset_index(drop=True)], axis=0)\n",
    "    return kinase_ranked\n",
    "\n",
    "\n"
   ]
  },
  {
   "cell_type": "markdown",
   "metadata": {},
   "source": [
    "## Generating and Saving Ranked Kinase Data to CSV Files"
   ]
  },
  {
   "cell_type": "code",
   "execution_count": null,
   "metadata": {},
   "outputs": [],
   "source": [
    "for rank in [1,2,3]: \n",
    "    kinase_ranked = create_kinase_ranked(rank)\n",
    "    # create a csv file in the data folder \n",
    "    kinase_ranked.to_csv(f'../data/kinase_ranked_{rank}.csv', index=False)"
   ]
  }
 ],
 "metadata": {
  "kernelspec": {
   "display_name": "base",
   "language": "python",
   "name": "python3"
  },
  "language_info": {
   "codemirror_mode": {
    "name": "ipython",
    "version": 3
   },
   "file_extension": ".py",
   "mimetype": "text/x-python",
   "name": "python",
   "nbconvert_exporter": "python",
   "pygments_lexer": "ipython3",
   "version": "3.10.9"
  }
 },
 "nbformat": 4,
 "nbformat_minor": 2
}
