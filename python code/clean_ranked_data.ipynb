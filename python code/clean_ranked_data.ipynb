{
 "cells": [
  {
   "cell_type": "code",
   "execution_count": 54,
   "metadata": {},
   "outputs": [],
   "source": [
    "# import necessary libraries\n",
    "import os\n",
    "import pandas as pd\n",
    "import numpy as np\n",
    "\n",
    "# ignore DtypeWarning warnings\n",
    "import warnings\n",
    "warnings.filterwarnings(\"ignore\")\n"
   ]
  },
  {
   "cell_type": "code",
   "execution_count": 50,
   "metadata": {},
   "outputs": [],
   "source": [
    "def filter_dataframe(df, kinase_name):\n",
    "    df_new = df[df['KINASE_psp'] == kinase_name]\n",
    "    filtered_df = df_new[df_new['SUB_MOD_RSD_psp'].values == df_new['Phosphosite_johnson'].values]\n",
    "    return filtered_df\n"
   ]
  },
  {
   "cell_type": "code",
   "execution_count": 51,
   "metadata": {},
   "outputs": [],
   "source": [
    "def clean_dataframe(df, data):\n",
    "    df_clean = pd.DataFrame()\n",
    "    for kinase in df['KINASE_psp'].unique():\n",
    "        filtered_df = filter_dataframe(df, kinase)\n",
    "        df_clean = pd.concat([df_clean, filtered_df])\n",
    "\n",
    "    assert sum(df_clean['SUB_MOD_RSD_psp'].values == df_clean['Phosphosite_johnson'].values) == len(df_clean) # check if all phosphosites are the same\n",
    "\n",
    "    # check if 'SITE_+/-7_AA_psp and 'SITE_+/-7_AA_johnson' are the same , otherwise print that they all are not the same\n",
    "    # make SITE_+/-7_AA_johnson column all caps \n",
    "    df_clean['SITE_+/-7_AA_psp'] = df_clean['SITE_+/-7_AA_psp'].str.upper()\n",
    "    if not sum(df_clean['SITE_+/-7_AA_psp'].values == df_clean['SITE_+/-7_AA_johnson'].values) == len(df_clean): \n",
    "        print(f\" For {data} dataset , out of {len(df_clean)} rows, {sum(df_clean['SITE_+/-7_AA_psp'].values == df_clean['SITE_+/-7_AA_johnson'].values)} are the same\")\n",
    "    else:\n",
    "        print(f\"For {data} dataset, all SITE_+/-7_AA_psp and SITE_+/-7_AA_johnson are the same\")\n",
    "    \n",
    "    return df_clean\n"
   ]
  },
  {
   "cell_type": "code",
   "execution_count": 52,
   "metadata": {},
   "outputs": [],
   "source": [
    "data_list = ['ranked_1.csv', 'ranked_2.csv', 'ranked_3.csv']"
   ]
  },
  {
   "cell_type": "code",
   "execution_count": 55,
   "metadata": {},
   "outputs": [
    {
     "name": "stdout",
     "output_type": "stream",
     "text": [
      "For ranked_1.csv dataset, all SITE_+/-7_AA_psp and SITE_+/-7_AA_johnson are the same\n",
      " For ranked_2.csv dataset , out of 322 rows, 321 are the same\n",
      " For ranked_3.csv dataset , out of 271 rows, 270 are the same\n"
     ]
    }
   ],
   "source": [
    "for data in data_list:\n",
    "    df = pd.read_csv('../data/merged_kinase_' + data)\n",
    "    df_clean = clean_dataframe(df, data)\n",
    "    df_clean.to_csv('../data/cleaned_' + data, index=False)"
   ]
  }
 ],
 "metadata": {
  "kernelspec": {
   "display_name": "base",
   "language": "python",
   "name": "python3"
  },
  "language_info": {
   "codemirror_mode": {
    "name": "ipython",
    "version": 3
   },
   "file_extension": ".py",
   "mimetype": "text/x-python",
   "name": "python",
   "nbconvert_exporter": "python",
   "pygments_lexer": "ipython3",
   "version": "3.10.9"
  }
 },
 "nbformat": 4,
 "nbformat_minor": 2
}
